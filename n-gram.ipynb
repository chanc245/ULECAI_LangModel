{
 "cells": [
  {
   "cell_type": "markdown",
   "metadata": {},
   "source": [
    "Source: Generating Sentences with n-grams using Python\n",
    " \n",
    "https://www.youtube.com/watch?v=pEYfD5aVrRI"
   ]
  },
  {
   "cell_type": "code",
   "execution_count": 91,
   "metadata": {},
   "outputs": [],
   "source": [
    "import nltk.corpus\n",
    "import random "
   ]
  },
  {
   "cell_type": "code",
   "execution_count": 92,
   "metadata": {},
   "outputs": [],
   "source": [
    "sentences = nltk.corpus.brown.sents()\n",
    "n_grams = {}"
   ]
  },
  {
   "cell_type": "code",
   "execution_count": 93,
   "metadata": {},
   "outputs": [
    {
     "data": {
      "text/plain": [
       "['The',\n",
       " 'Fulton',\n",
       " 'County',\n",
       " 'Grand',\n",
       " 'Jury',\n",
       " 'said',\n",
       " 'Friday',\n",
       " 'an',\n",
       " 'investigation',\n",
       " 'of',\n",
       " \"Atlanta's\",\n",
       " 'recent',\n",
       " 'primary',\n",
       " 'election',\n",
       " 'produced',\n",
       " '``',\n",
       " 'no',\n",
       " 'evidence',\n",
       " \"''\",\n",
       " 'that',\n",
       " 'any',\n",
       " 'irregularities',\n",
       " 'took',\n",
       " 'place',\n",
       " '.']"
      ]
     },
     "execution_count": 93,
     "metadata": {},
     "output_type": "execute_result"
    }
   ],
   "source": [
    "len(sentences)\n",
    "sentences[0]"
   ]
  },
  {
   "cell_type": "code",
   "execution_count": 94,
   "metadata": {},
   "outputs": [],
   "source": [
    "for sentence in sentences :\n",
    "  # get rid of all the nonword elements \n",
    "  words = [word for word in sentence if word[0].isalpha()] \n",
    "  # iterate over the words --> get rid of the very last word in the setnence \n",
    "  # (since there no word after the sentence to train for)\n",
    "  for ix in range(len(words) - 1):\n",
    "    try:\n",
    "      n_grams[words[ix]].append(words[ix + 1])\n",
    "    \n",
    "    # put the nonword element in a throw-away variable \n",
    "    except KeyError as _:\n",
    "      n_grams[words[ix]] = []\n",
    "      # right after putting it, then put the following word in the array\n",
    "      n_grams[words[ix]].append(words[ix + 1])\n",
    "\n",
    "# check --> n_grams\n",
    "# to see how every words is follow by what word "
   ]
  },
  {
   "cell_type": "code",
   "execution_count": 95,
   "metadata": {},
   "outputs": [],
   "source": [
    "# funtion to generate a sentence using n-gram method \n",
    "def generate_sentence(nb):\n",
    "  words = []\n",
    "  # choose random key in the n_grams \n",
    "  next_word = random.choice(list(n_grams.keys()))\n",
    "  words.append(next_word)\n",
    "  # repeat to until meet the nb number\n",
    "  while len(words) < nb:\n",
    "    next_word = random.choice(n_grams[next_word])\n",
    "    words.append(next_word)\n",
    "\n",
    "  return \" \".join(words)"
   ]
  },
  {
   "cell_type": "code",
   "execution_count": 146,
   "metadata": {},
   "outputs": [
    {
     "data": {
      "text/plain": [
       "\"Erde and from Wilmington that it should be satisfied with Mommy's magazines but resumed the\""
      ]
     },
     "execution_count": 146,
     "metadata": {},
     "output_type": "execute_result"
    }
   ],
   "source": [
    "generate_sentence(15)"
   ]
  },
  {
   "cell_type": "code",
   "execution_count": 142,
   "metadata": {},
   "outputs": [],
   "source": [
    "ngram_ex = []"
   ]
  },
  {
   "cell_type": "code",
   "execution_count": 143,
   "metadata": {},
   "outputs": [],
   "source": [
    "for _ in range(20):\n",
    "    ex_sentence = generate_sentence(15)\n",
    "    ngram_ex.append(ex_sentence)\n"
   ]
  },
  {
   "cell_type": "code",
   "execution_count": 144,
   "metadata": {},
   "outputs": [
    {
     "data": {
      "text/plain": [
       "['displaying uniform on Af and competent observers reverses the institution can be said he had',\n",
       " 'stinging blow which he would seem to explore indicating that he uses her first level',\n",
       " 'overrode the husband away from the subject I never is possible to be physically fit',\n",
       " 'marshal who is not escape this case one thing that even panic of his pockets',\n",
       " 'rattling of geographical environment in so my hand or whatever face with the tawny beard',\n",
       " 'adversaries and astronomy would take comfort and the architect might even though she stayed here',\n",
       " \"defiant charge or Russians in Salyer's Canyon voice pleaded for factories without compensation plan should\",\n",
       " 'spruce can force of whom he was about years to having one route between what',\n",
       " 'Compute this way though granted but it has been unusual lad quite prepared and the',\n",
       " 'Electronic Industries Association Newman and his Sun-Times column were hypothesized that pertains to instruct the',\n",
       " 'Pay him from camps coming loss of anti-A and changed the manifest themselves but not',\n",
       " \"consderations for working-class youth with the book's character of beds to the problem in Rhode\",\n",
       " 'wrongful act of Portland University of the others will give her fingers of H. Sloane',\n",
       " \"Commissioner's Office Department's recommendation to anyone who retired under physiological agent of the winter rubbing\",\n",
       " 'skeptical cynical comment and she was back him aid in a man in order to',\n",
       " 'whiskey for pepper celery and most helpful to make successively in a sizzling day in',\n",
       " 'Hosaka is raised many of volunteers sending the author begins to check back on him',\n",
       " 'southwest of us therefore if she would not a set records keeping them of violating',\n",
       " 'summer-winter domestic sewage system where p is the rough to pull hen and shape within',\n",
       " 'congregated in the professional meetings are estimated return for no longer than one would have']"
      ]
     },
     "execution_count": 144,
     "metadata": {},
     "output_type": "execute_result"
    }
   ],
   "source": [
    "ngram_ex"
   ]
  }
 ],
 "metadata": {
  "kernelspec": {
   "display_name": "Python 3",
   "language": "python",
   "name": "python3"
  },
  "language_info": {
   "codemirror_mode": {
    "name": "ipython",
    "version": 3
   },
   "file_extension": ".py",
   "mimetype": "text/x-python",
   "name": "python",
   "nbconvert_exporter": "python",
   "pygments_lexer": "ipython3",
   "version": "3.9.6"
  }
 },
 "nbformat": 4,
 "nbformat_minor": 2
}
