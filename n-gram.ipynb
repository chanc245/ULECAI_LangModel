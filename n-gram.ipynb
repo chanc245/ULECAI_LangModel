{
 "cells": [
  {
   "cell_type": "markdown",
   "metadata": {},
   "source": [
    "Source: Generating Sentences with n-grams using Python\n",
    " \n",
    "https://www.youtube.com/watch?v=pEYfD5aVrRI"
   ]
  },
  {
   "cell_type": "code",
   "execution_count": 25,
   "metadata": {},
   "outputs": [],
   "source": [
    "import nltk.corpus\n",
    "import random "
   ]
  },
  {
   "cell_type": "code",
   "execution_count": 45,
   "metadata": {},
   "outputs": [],
   "source": [
    "sentences = nltk.corpus.brown.sents()\n",
    "n_grams = {}"
   ]
  },
  {
   "cell_type": "code",
   "execution_count": 54,
   "metadata": {},
   "outputs": [
    {
     "data": {
      "text/plain": [
       "['The',\n",
       " 'Fulton',\n",
       " 'County',\n",
       " 'Grand',\n",
       " 'Jury',\n",
       " 'said',\n",
       " 'Friday',\n",
       " 'an',\n",
       " 'investigation',\n",
       " 'of',\n",
       " \"Atlanta's\",\n",
       " 'recent',\n",
       " 'primary',\n",
       " 'election',\n",
       " 'produced',\n",
       " '``',\n",
       " 'no',\n",
       " 'evidence',\n",
       " \"''\",\n",
       " 'that',\n",
       " 'any',\n",
       " 'irregularities',\n",
       " 'took',\n",
       " 'place',\n",
       " '.']"
      ]
     },
     "execution_count": 54,
     "metadata": {},
     "output_type": "execute_result"
    }
   ],
   "source": [
    "len(sentences)\n",
    "sentences[0]"
   ]
  },
  {
   "cell_type": "code",
   "execution_count": 67,
   "metadata": {},
   "outputs": [],
   "source": [
    "for sentence in sentences :\n",
    "  # get rid of all the nonword elements \n",
    "  words = [word for word in sentence if word[0].isalpha()] \n",
    "  # iterate over the words --> get rid of the very last word in the setnence \n",
    "  # (since there no word after the sentence to train for)\n",
    "  for ix in range(len(words) - 1):\n",
    "    try:\n",
    "      n_grams[words[ix]].append(words[ix + 1])\n",
    "    \n",
    "    # put the nonword element in a throw-away variable \n",
    "    except KeyError as _:\n",
    "      n_grams[words[ix]] = []\n",
    "      # right after putting it, then put the following word in the array\n",
    "      n_grams[words[ix]].append(words[ix + 1])\n",
    "\n",
    "# check --> n_grams\n",
    "# to see how every words is follow by what word "
   ]
  },
  {
   "cell_type": "code",
   "execution_count": 69,
   "metadata": {},
   "outputs": [],
   "source": [
    "# funtion to generate a sentence using n-gram method \n",
    "def generate_sentence(nb):\n",
    "  words = []\n",
    "  # choose random key in the n_grams \n",
    "  next_word = random.choice(list(n_grams.keys()))\n",
    "  words.append(next_word)\n",
    "  # repeat to until meet the nb number\n",
    "  while len(words) < nb:\n",
    "    next_word = random.choice(n_grams[next_word])\n",
    "    words.append(next_word)\n",
    "\n",
    "  return \" \".join(words)"
   ]
  },
  {
   "cell_type": "code",
   "execution_count": 87,
   "metadata": {},
   "outputs": [
    {
     "data": {
      "text/plain": [
       "\"Doolin's ambition to witness in peace is up to move will be safer to be\""
      ]
     },
     "execution_count": 87,
     "metadata": {},
     "output_type": "execute_result"
    }
   ],
   "source": [
    "generate_sentence(15)"
   ]
  },
  {
   "cell_type": "code",
   "execution_count": 86,
   "metadata": {},
   "outputs": [],
   "source": [
    "# 2 arrays 10 words or 15 words sentence with generate_sentence is run 100 times\n",
    "n_gram_10words = []\n",
    "n_gram_15words = [] "
   ]
  },
  {
   "cell_type": "code",
   "execution_count": null,
   "metadata": {},
   "outputs": [],
   "source": []
  }
 ],
 "metadata": {
  "kernelspec": {
   "display_name": "Python 3",
   "language": "python",
   "name": "python3"
  },
  "language_info": {
   "codemirror_mode": {
    "name": "ipython",
    "version": 3
   },
   "file_extension": ".py",
   "mimetype": "text/x-python",
   "name": "python",
   "nbconvert_exporter": "python",
   "pygments_lexer": "ipython3",
   "version": "3.9.6"
  }
 },
 "nbformat": 4,
 "nbformat_minor": 2
}
